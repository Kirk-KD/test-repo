{
 "cells": [
  {
   "cell_type": "code",
   "execution_count": 3,
   "metadata": {},
   "outputs": [
    {
     "output_type": "stream",
     "name": "stdout",
     "text": "not present\n"
    }
   ],
   "source": [
    "# 1\n",
    "l = [1, 2, 3, 4, 5, 6, 7, 8, 9, 10]\n",
    "num = 11\n",
    "\n",
    "flag = False\n",
    "for i in l:\n",
    "    if i == num:\n",
    "        print(i)\n",
    "        flag = True\n",
    "        break\n",
    "\n",
    "if flag == False:\n",
    "    print(\"not present\")"
   ]
  },
  {
   "cell_type": "code",
   "execution_count": 2,
   "metadata": {},
   "outputs": [
    {
     "output_type": "stream",
     "name": "stdout",
     "text": "[4, 8, 10]\n"
    }
   ],
   "source": [
    "# 2\n",
    "\n",
    "def check(l, n):\n",
    "    new_l = []\n",
    "    for i in range(len(l)):\n",
    "        if l[i] == n:\n",
    "            new_l.append(i)\n",
    "    print(new_l)\n",
    "\n",
    "check([1, 2, 3, 4, 5, 6, 7, 6, 5, 4, 5, 3, 1, 2, 3], 5)"
   ]
  },
  {
   "cell_type": "code",
   "execution_count": 1,
   "metadata": {},
   "outputs": [
    {
     "output_type": "stream",
     "name": "stdout",
     "text": "0\n1\n2\n3\n4\n"
    }
   ],
   "source": [
    "number = 0\n",
    "while number < 5:\n",
    "    print(number)\n",
    "    number += 1"
   ]
  },
  {
   "cell_type": "code",
   "execution_count": 4,
   "metadata": {},
   "outputs": [
    {
     "output_type": "stream",
     "name": "stdout",
     "text": "15\n"
    }
   ],
   "source": [
    "# GCD\n",
    "\n",
    "n1 = 15\n",
    "n2 = 30\n",
    "\n",
    "while n1 % n2 != 0:\n",
    "    r = n1 % n2\n",
    "    n2 = r\n",
    "    \n",
    "print(n2)"
   ]
  },
  {
   "cell_type": "code",
   "execution_count": 26,
   "metadata": {},
   "outputs": [
    {
     "output_type": "stream",
     "name": "stdout",
     "text": "[44, 65, 45, 67, 32, 99, 59, 13, 75, 95, 99, 47, 37, 4, 55, 11, 26, 43, 65, 78, 46, 18, 43, 35, 89, 69, 11, 39, 87, 40]\n"
    }
   ],
   "source": [
    "import random\n",
    "\n",
    "def insert_random(n):\n",
    "    l = []\n",
    "    for i in range(n):\n",
    "        l.append(random.randint(0, 100))\n",
    "    print(l)\n",
    "\n",
    "insert_random(30)"
   ]
  },
  {
   "cell_type": "code",
   "execution_count": null,
   "metadata": {},
   "outputs": [],
   "source": []
  }
 ],
 "metadata": {
  "language_info": {
   "codemirror_mode": {
    "name": "ipython",
    "version": 3
   },
   "file_extension": ".py",
   "mimetype": "text/x-python",
   "name": "python",
   "nbconvert_exporter": "python",
   "pygments_lexer": "ipython3",
   "version": "3.8.0-final"
  },
  "orig_nbformat": 2,
  "kernelspec": {
   "name": "python38032bit41681b3205e94c13881b991e087b293a",
   "display_name": "Python 3.8.0 32-bit"
  }
 },
 "nbformat": 4,
 "nbformat_minor": 2
}