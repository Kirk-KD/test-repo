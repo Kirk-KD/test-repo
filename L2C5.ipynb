{
 "cells": [
  {
   "cell_type": "code",
   "execution_count": null,
   "metadata": {},
   "outputs": [],
   "source": [
    "\n",
    "# Homework: \n",
    "\n",
    "l = [1, 5, 2.909, 6, 5, 3, 13, 54, 123, 663, 13.2]\n",
    "\n",
    "# 1) Define a function that takes in a list.\n",
    "# Find the maximum number in this list.\n",
    "# Return the maximum number.\n",
    "# Save the maximum number and print outside the function.\n",
    "\n",
    "def find_max_1(l): # .sort method\n",
    "    l2 = l[:]\n",
    "    l2.sort()\n",
    "    return l2[-1]\n",
    "\n",
    "def find_max_2(l): # for loop\n",
    "    m = 0\n",
    "    for num in l:\n",
    "        if num >= m:\n",
    "            m = num\n",
    "    return m\n",
    "\n",
    "print(find_max_1(l))\n",
    "print(find_max_2(l))"
   ]
  },
  {
   "cell_type": "code",
   "execution_count": null,
   "metadata": {},
   "outputs": [],
   "source": [
    "\n",
    "# 2) Define a function that takes in a list.\n",
    "# Create a new_list.\n",
    "# Add all the numbers in the previous list greater than 120 to new_list.\n",
    "# Return the new_list, save and print outside the function.\n",
    "\n",
    "def above_120(l):\n",
    "    new_list = []\n",
    "    for i in l:\n",
    "        if i > 120:\n",
    "            new_list.append(i)\n",
    "    return new_list\n",
    "\n",
    "print(above_120(l))"
   ]
  },
  {
   "cell_type": "code",
   "execution_count": null,
   "metadata": {},
   "outputs": [],
   "source": [
    "\n",
    "# 3) Use a while loop to increase one number up to a certain threshold.\n",
    "# While the number is less than threshold, increase number by one.\n",
    "# Print the number and the threshold after the while loop is finished\n",
    "\n",
    "number = 0\n",
    "threshold = 100\n",
    "\n",
    "while number < threshold:\n",
    "    number += 1\n",
    "\n",
    "print(f\"Number: {number} | Threshold: {threshold}\")"
   ]
  },
  {
   "cell_type": "code",
   "execution_count": 22,
   "metadata": {},
   "outputs": [
    {
     "output_type": "stream",
     "name": "stdout",
     "text": "oellH\n"
    }
   ],
   "source": [
    "\n",
    "s = \"Hello\"\n",
    "print(s[-1]+s[1:-1]+s[0])"
   ]
  },
  {
   "cell_type": "code",
   "execution_count": 24,
   "metadata": {},
   "outputs": [
    {
     "output_type": "stream",
     "name": "stdout",
     "text": "15 10\n"
    }
   ],
   "source": [
    "a = 10\n",
    "b = 15\n",
    "a, b = b, a\n",
    "print(a, b)"
   ]
  },
  {
   "cell_type": "code",
   "execution_count": 25,
   "metadata": {},
   "outputs": [
    {
     "output_type": "stream",
     "name": "stdout",
     "text": "10\n12\n15\n18\n20\n21\n24\n25\n27\n30\n33\n35\n36\n39\n"
    }
   ],
   "source": [
    "def mutiples(a, b):\n",
    "    for i in range(a, b):\n",
    "        if i % 3 == 0 or i % 5 == 0:\n",
    "            print(i)\n",
    "\n",
    "mutiples(10, 40)"
   ]
  },
  {
   "cell_type": "code",
   "execution_count": 32,
   "metadata": {},
   "outputs": [
    {
     "output_type": "stream",
     "name": "stdout",
     "text": "[3, 6, 5, 8, 25, 10]\n"
    }
   ],
   "source": [
    "def add_2(l):\n",
    "    l = [i + 2 for i in l]\n",
    "    print(l)\n",
    "add_2([1, 4, 3, 6, 23, 8])"
   ]
  },
  {
   "cell_type": "code",
   "execution_count": null,
   "metadata": {},
   "outputs": [],
   "source": []
  }
 ],
 "metadata": {
  "language_info": {
   "codemirror_mode": {
    "name": "ipython",
    "version": 3
   },
   "file_extension": ".py",
   "mimetype": "text/x-python",
   "name": "python",
   "nbconvert_exporter": "python",
   "pygments_lexer": "ipython3",
   "version": "3.8.0-final"
  },
  "orig_nbformat": 2,
  "kernelspec": {
   "name": "python38032bit41681b3205e94c13881b991e087b293a",
   "display_name": "Python 3.8.0 32-bit"
  }
 },
 "nbformat": 4,
 "nbformat_minor": 2
}