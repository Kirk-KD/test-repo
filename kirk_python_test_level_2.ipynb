{
 "cells": [
  {
   "cell_type": "code",
   "execution_count": null,
   "metadata": {},
   "outputs": [],
   "source": [
    "# 1)\n",
    "\n",
    "# \"Break\" exits the loop, \"continue\" end the iteration it's currently in and starts again from the beginning of the loop.\n",
    "\n",
    "for i in range(10):\n",
    "    print(i)\n",
    "    if i > 5:\n",
    "        break\n",
    "    print('did not \"break\"')\n",
    "\n",
    "for i in range(10):\n",
    "    print(i)\n",
    "    if i > 5:\n",
    "        continue\n",
    "    print('did not \"continue\"')\n",
    "    "
   ]
  },
  {
   "cell_type": "code",
   "execution_count": null,
   "metadata": {},
   "outputs": [],
   "source": [
    "# 2)\n",
    "\n",
    "range(1, 17, 3)\n"
   ]
  },
  {
   "cell_type": "code",
   "execution_count": null,
   "metadata": {},
   "outputs": [],
   "source": [
    "# 3)\n",
    "\n",
    "n1, n2 = 1, 2\n",
    "\n",
    "n1 += n2\n",
    "n2 = n1 - n2\n",
    "n1 -= n2\n"
   ]
  },
  {
   "cell_type": "code",
   "execution_count": null,
   "metadata": {},
   "outputs": [],
   "source": [
    "# 4)\n",
    "\n",
    "l = [1, 2, 3, 4, 5, 6, 7]\n",
    "\n",
    "for i in range(len(l)):\n",
    "    print(l[i])\n",
    "\n",
    "for item in l:\n",
    "    print(item)"
   ]
  },
  {
   "cell_type": "code",
   "execution_count": null,
   "metadata": {},
   "outputs": [],
   "source": [
    "# 5)\n",
    "\n",
    "def get_sum(l):\n",
    "    print(sum(l))\n",
    "    "
   ]
  },
  {
   "cell_type": "code",
   "execution_count": null,
   "metadata": {},
   "outputs": [],
   "source": [
    "# 6)\n",
    "\n",
    "def double_sum(l):\n",
    "    return sum([l[i] for i in range(len(l)) if i % 2 == 1])\n",
    "\n",
    "print(double_sum([1, 2, 3, 4, 5, 6, 7, 8, 9, 10]))\n"
   ]
  },
  {
   "cell_type": "code",
   "execution_count": null,
   "metadata": {},
   "outputs": [],
   "source": [
    "# 7)\n",
    "\n",
    "def check_if_in(l, n):\n",
    "    for i in l:\n",
    "        if i == n:\n",
    "            return True\n",
    "    return False\n"
   ]
  },
  {
   "cell_type": "code",
   "execution_count": null,
   "metadata": {},
   "outputs": [],
   "source": [
    "# 8)\n",
    "\n",
    "def week(day):\n",
    "    if day in [\"Monday\", \"Tuesday\", \"Wednesday\", \"Thursday\", \"Friday\"]:\n",
    "        print(\"Weekday\")\n",
    "    else:\n",
    "        print(\"Weekend\")\n"
   ]
  },
  {
   "cell_type": "code",
   "execution_count": null,
   "metadata": {},
   "outputs": [],
   "source": [
    "# 9)\n",
    "\n",
    "d = {}\n",
    "l = [1, 2, 3, 4, 5, 2, 4, 3, 1]\n",
    "count = 0\n",
    "\n",
    "for i in l:\n",
    "    if i in d:\n",
    "        d[i] += 1\n",
    "    else:\n",
    "        d[i] = 1\n",
    "for i in d:\n",
    "    if d[i] > 1:\n",
    "        count += 1\n",
    "\n",
    "print(count)\n"
   ]
  },
  {
   "cell_type": "code",
   "execution_count": null,
   "metadata": {},
   "outputs": [],
   "source": [
    "# 10)\n",
    "\n",
    "def reverse_str(s):\n",
    "    print(s[::-1])\n"
   ]
  },
  {
   "cell_type": "code",
   "execution_count": null,
   "metadata": {},
   "outputs": [],
   "source": [
    "# 11)\n",
    "\n",
    "for y in range(4):\n",
    "    for x in range(y + 1):\n",
    "        print(\"*\", end=\"\")\n",
    "    print()\n"
   ]
  }
 ],
 "metadata": {
  "language_info": {
   "codemirror_mode": {
    "name": "ipython",
    "version": 3
   },
   "file_extension": ".py",
   "mimetype": "text/x-python",
   "name": "python",
   "nbconvert_exporter": "python",
   "pygments_lexer": "ipython3",
   "version": "3.8.0-final"
  },
  "orig_nbformat": 2,
  "kernelspec": {
   "name": "python38032bit41681b3205e94c13881b991e087b293a",
   "display_name": "Python 3.8.0 32-bit"
  }
 },
 "nbformat": 4,
 "nbformat_minor": 2
}