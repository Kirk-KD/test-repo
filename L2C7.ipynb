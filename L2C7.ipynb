{
 "cells": [
  {
   "cell_type": "code",
   "execution_count": 3,
   "metadata": {},
   "outputs": [
    {
     "output_type": "execute_result",
     "data": {
      "text/plain": "False"
     },
     "metadata": {},
     "execution_count": 3
    }
   ],
   "source": [
    "# 1) Pair of numbers generating a certain sum - double loop\n",
    "# Define a function that takes in a list and a number called sum.\n",
    "# Find out if there are 2 numbers that add up to this sum.\n",
    "# Do not print anything inside the function, just return True or False.\n",
    "\n",
    "def check_sum(l, sum):\n",
    "    for n1 in l:\n",
    "        for n2 in l:\n",
    "            if n1 + n2 == sum and n1 != n2:\n",
    "                return True\n",
    "    return False\n",
    "\n",
    "print(check_sum([1, 2, 3, 4, 5], 100))"
   ]
  },
  {
   "cell_type": "code",
   "execution_count": 4,
   "metadata": {},
   "outputs": [
    {
     "output_type": "stream",
     "name": "stdout",
     "text": "True\n"
    }
   ],
   "source": [
    "# 2) Define a function that takes in a string.\n",
    "# Find out if the string is a palindrome.\n",
    "# palindrome: abba, mom, racecar\n",
    "\n",
    "# flag = true\n",
    "\n",
    "def palindrome(s):\n",
    "    flag = True\n",
    "    for i in range(len(s)):\n",
    "        if s[i] != s[len(s) - i - 1]:\n",
    "            flag = False\n",
    "            break\n",
    "    return flag\n",
    "\n",
    "print(palindrome(\"racecar\"))"
   ]
  },
  {
   "cell_type": "code",
   "execution_count": 8,
   "metadata": {},
   "outputs": [
    {
     "output_type": "stream",
     "name": "stdout",
     "text": "one\ntwo\nthree\n"
    }
   ],
   "source": [
    "d = {1: \"one\", 2: \"two\", 3: \"three\"}\n",
    "for item in d.values():\n",
    "    print(item)"
   ]
  },
  {
   "cell_type": "code",
   "execution_count": 10,
   "metadata": {},
   "outputs": [
    {
     "output_type": "stream",
     "name": "stdout",
     "text": "1\n"
    }
   ],
   "source": [
    "geog = {'Canada':'Ottawa', 'USA':'Washington', 'China':'Beijing', 'Brazil':'Reo Di Janeiro'}\n",
    "b_countries = ['Brazil', 'Barbados', 'Bahamas']\n",
    "\n",
    "count = 0\n",
    "for item in b_countries:\n",
    "    if item in geog:\n",
    "        count += 1\n",
    "\n",
    "print(count)"
   ]
  },
  {
   "cell_type": "code",
   "execution_count": 13,
   "metadata": {},
   "outputs": [
    {
     "output_type": "stream",
     "name": "stdout",
     "text": "Reo Di Janeiro\n"
    }
   ],
   "source": [
    "longest = \"\"\n",
    "\n",
    "for v in geog.values():\n",
    "    if len(v) > len(longest):\n",
    "        longest = v\n",
    "\n",
    "print(longest)"
   ]
  },
  {
   "cell_type": "code",
   "execution_count": 22,
   "metadata": {},
   "outputs": [
    {
     "output_type": "stream",
     "name": "stdout",
     "text": "{1: 1, 2: 1, 3: 2, 4: 1}\n"
    }
   ],
   "source": [
    "l = [1, 2, 3, 4, 3]\n",
    "count_dict = {}\n",
    "\n",
    "for i in l:\n",
    "    if i in count_dict.keys():\n",
    "        count_dict[i] += 1\n",
    "    else:\n",
    "        count_dict[i] = 1\n",
    "\n",
    "print(count_dict)"
   ]
  },
  {
   "cell_type": "code",
   "execution_count": null,
   "metadata": {},
   "outputs": [],
   "source": []
  }
 ],
 "metadata": {
  "language_info": {
   "codemirror_mode": {
    "name": "ipython",
    "version": 3
   },
   "file_extension": ".py",
   "mimetype": "text/x-python",
   "name": "python",
   "nbconvert_exporter": "python",
   "pygments_lexer": "ipython3",
   "version": "3.8.0-final"
  },
  "orig_nbformat": 2,
  "kernelspec": {
   "name": "python38032bit41681b3205e94c13881b991e087b293a",
   "display_name": "Python 3.8.0 32-bit"
  }
 },
 "nbformat": 4,
 "nbformat_minor": 2
}