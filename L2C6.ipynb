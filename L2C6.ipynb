{
 "cells": [
  {
   "cell_type": "code",
   "execution_count": null,
   "metadata": {},
   "outputs": [],
   "source": [
    "# Homework:\n",
    "\n",
    "# 1) Remove Duplicate Elements:\n",
    "# Define a function that takes in a list.\n",
    "# Create a new_list inside the function.\n",
    "# Run a loop inside the function to insert all the element from old list to new_list, except duplicates.\n",
    "# Print this new_list once.\n",
    "# Hint: use 'if x in list'\n",
    "\n",
    "def no_duplicates(l):\n",
    "    new_list = []\n",
    "    for i in l:\n",
    "        if i not in new_list:\n",
    "            new_list.append(i)\n",
    "    print(new_list)\n",
    "\n",
    "# no_duplicates([1, 3, 2, 3, 4, 3, 1, 4, 7, 6, 7, 5, 4, 5, 9, 6, 1])"
   ]
  },
  {
   "cell_type": "code",
   "execution_count": null,
   "metadata": {},
   "outputs": [],
   "source": [
    "# 2) Think about the swap_3() function, that uses arithmetic.\n",
    "# Use two numbers to explain this function step by step.\n",
    "def swap_3(a, b):\n",
    "    a = a + b\n",
    "    b = a - b\n",
    "    a = a - b\n",
    "    print('a:', a, 'b:', b)\n",
    "\n",
    "# swap_3(10, 15)\n",
    "# a = 10 + 15 = 25\n",
    "# b = 25 - 15 = 10\n",
    "# a = 25 - 10 = 15\n",
    "# a = 15, b = 10"
   ]
  },
  {
   "cell_type": "code",
   "execution_count": null,
   "metadata": {},
   "outputs": [],
   "source": [
    "# 3) Define a function that takes in a list and a number called sum.\n",
    "# Find out if there are 2 numbers that add up to this sum.\n",
    "# Hint: We need to use nested loops.\n",
    "def check_for_sum(l, sum):\n",
    "    found = False\n",
    "    for i in l:\n",
    "        for j in l:\n",
    "            if sum - i == j and i != j:\n",
    "                print(i, j)\n",
    "                found = True\n",
    "                break\n",
    "        if found:\n",
    "            break\n",
    "    return found\n",
    "\n",
    "# print(check_for_sum([1, 2, 3, 4, 5, 6, 7], 9))"
   ]
  },
  {
   "cell_type": "code",
   "execution_count": 2,
   "metadata": {},
   "outputs": [
    {
     "output_type": "stream",
     "name": "stdout",
     "text": "1\n2\n3\n4\n5\n6\n7\n8\n9\n10\n"
    }
   ],
   "source": [
    "\n",
    "l1 = [1, 2, 3]\n",
    "l2 = [4, 5, 6, 7]\n",
    "l3 = [8, 9, 10]\n",
    "\n",
    "for item in [l1, l2, l3]:\n",
    "    for i in item:\n",
    "        print(i)"
   ]
  },
  {
   "cell_type": "code",
   "execution_count": 10,
   "metadata": {},
   "outputs": [
    {
     "output_type": "stream",
     "name": "stdout",
     "text": "buzz\nfizz\nfizz\nfizz\nbuzz\nfizz\nfizz\nbuzz\nfizz\n"
    }
   ],
   "source": [
    "# FizzBuzz\n",
    "# Define a function that takes two numbers (start, end)\n",
    "# If the number is divisible by 3, print fizz\n",
    "# If the number is divisible by 5, print buzz\n",
    "# If the number is divisible by both 3 and 5, print fizzbuzz\n",
    "\n",
    "def fizzbuzz(start, end):\n",
    "    for i in range(start, end):\n",
    "        if i % 3 == 0 and i % 5 == 0:\n",
    "            print(\"fizzbuzz\")\n",
    "        elif i % 3 == 0:\n",
    "            print(\"fizz\")\n",
    "        elif i % 5 == 0:\n",
    "            print(\"buzz\")\n",
    "        \n",
    "\n",
    "fizzbuzz(10, 30)"
   ]
  },
  {
   "cell_type": "code",
   "execution_count": null,
   "metadata": {},
   "outputs": [],
   "source": []
  }
 ],
 "metadata": {
  "language_info": {
   "codemirror_mode": {
    "name": "ipython",
    "version": 3
   },
   "file_extension": ".py",
   "mimetype": "text/x-python",
   "name": "python",
   "nbconvert_exporter": "python",
   "pygments_lexer": "ipython3",
   "version": "3.8.0-final"
  },
  "orig_nbformat": 2,
  "kernelspec": {
   "name": "python38032bit41681b3205e94c13881b991e087b293a",
   "display_name": "Python 3.8.0 32-bit"
  }
 },
 "nbformat": 4,
 "nbformat_minor": 2
}