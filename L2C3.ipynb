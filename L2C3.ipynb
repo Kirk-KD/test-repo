{
 "cells": [
  {
   "cell_type": "code",
   "execution_count": 5,
   "metadata": {},
   "outputs": [
    {
     "output_type": "stream",
     "name": "stdout",
     "text": "i:\t1\nsum:\t1\ncount:\t1\n\ni:\t2\nsum:\t3\ncount:\t2\n\ni:\t3\nsum:\t6\ncount:\t3\n\ni:\t4\nsum:\t10\ncount:\t4\n\n"
    }
   ],
   "source": [
    "# L2C2 homework:\n",
    "\n",
    "# Define s = 0\n",
    "s = 0\n",
    "\n",
    "# Define c = 0\n",
    "c = 0\n",
    "\n",
    "# Loop 4 times from 1 to 4\n",
    "for i in range(1, 4): \n",
    "\n",
    "    # Add i to s\n",
    "    s += i\n",
    "\n",
    "    # Add 1 to c\n",
    "    c += 1\n",
    "\n",
    "    # Print sum, count, and i\n",
    "    print(f\"i:\\t{i}\\nsum:\\t{s}\\ncount:\\t{c}\\n\")\n"
   ]
  },
  {
   "cell_type": "code",
   "execution_count": 6,
   "metadata": {},
   "outputs": [
    {
     "output_type": "stream",
     "name": "stdout",
     "text": "5 is an odd number\n"
    }
   ],
   "source": [
    "number = 5\n",
    "\n",
    "if number % 2 == 0:\n",
    "    print(f\"{number} is an even number\")\n",
    "else:\n",
    "    print(f\"{number} is an odd number\")"
   ]
  },
  {
   "cell_type": "code",
   "execution_count": 9,
   "metadata": {},
   "outputs": [
    {
     "output_type": "stream",
     "name": "stdout",
     "text": "EVEN: 4\n"
    }
   ],
   "source": [
    "\n",
    "# 1\n",
    "\n",
    "l = [1, 2, 3, 4, 5, 6, 7, 8, 9]\n",
    "even = 0\n",
    "\n",
    "for i in l:\n",
    "    if i % 2 == 0:\n",
    "        even += 1\n",
    "\n",
    "print(f\"EVEN: {even}\")"
   ]
  },
  {
   "cell_type": "code",
   "execution_count": 12,
   "metadata": {},
   "outputs": [
    {
     "output_type": "stream",
     "name": "stdout",
     "text": "EVEN: 5\nODD: 4\n"
    }
   ],
   "source": [
    "\n",
    "# 2\n",
    "\n",
    "l = [1, 2, 0, 4, 5, 6, 7, 8, 9]\n",
    "even, odd = 0, 0\n",
    "\n",
    "for i in l:\n",
    "    if i % 2 == 0:\n",
    "        even += 1\n",
    "    else:\n",
    "        odd += 1\n",
    "\n",
    "print(f\"EVEN: {even}\\nODD: {odd}\")"
   ]
  },
  {
   "cell_type": "code",
   "execution_count": 13,
   "metadata": {},
   "outputs": [
    {
     "output_type": "stream",
     "name": "stdout",
     "text": "2\n0\n4\n6\n8\n"
    }
   ],
   "source": [
    "\n",
    "# 3\n",
    "\n",
    "l = [1, 2, 0, 4, 5, 6, 7, 8, 9]\n",
    "\n",
    "for i in l:\n",
    "    if i % 2 == 0:\n",
    "        print(i)"
   ]
  },
  {
   "cell_type": "code",
   "execution_count": 14,
   "metadata": {},
   "outputs": [
    {
     "output_type": "stream",
     "name": "stdout",
     "text": "1\n0\n5\n7\n9\n"
    }
   ],
   "source": [
    "\n",
    "# 4\n",
    "\n",
    "l = [1, 2, 0, 4, 5, 6, 7, 8, 9]\n",
    "\n",
    "for i in l:\n",
    "    if l.index(i) % 2 == 0:\n",
    "        print(i)"
   ]
  },
  {
   "cell_type": "code",
   "execution_count": 16,
   "metadata": {},
   "outputs": [
    {
     "output_type": "stream",
     "name": "stdout",
     "text": "22\n"
    }
   ],
   "source": [
    "l = [1, 2, 0, 4, 5, 6, 7, 8, 9]\n",
    "s = 0\n",
    "\n",
    "for i in l:\n",
    "    if l.index(i) % 2 == 0:\n",
    "        s += i\n",
    "\n",
    "print(s)"
   ]
  },
  {
   "cell_type": "code",
   "execution_count": null,
   "metadata": {},
   "outputs": [],
   "source": []
  }
 ],
 "metadata": {
  "language_info": {
   "codemirror_mode": {
    "name": "ipython",
    "version": 3
   },
   "file_extension": ".py",
   "mimetype": "text/x-python",
   "name": "python",
   "nbconvert_exporter": "python",
   "pygments_lexer": "ipython3",
   "version": "3.8.0-final"
  },
  "orig_nbformat": 2,
  "kernelspec": {
   "name": "python38032bit41681b3205e94c13881b991e087b293a",
   "display_name": "Python 3.8.0 32-bit"
  }
 },
 "nbformat": 4,
 "nbformat_minor": 2
}